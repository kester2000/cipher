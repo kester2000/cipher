{
 "cells": [
  {
   "cell_type": "code",
   "execution_count": 1,
   "metadata": {},
   "outputs": [
    {
     "name": "stdout",
     "output_type": "stream",
     "text": [
      "8328221\n"
     ]
    }
   ],
   "source": [
    "\n",
    "import os\n",
    "import opencc\n",
    "from copy import deepcopy\n",
    "\n",
    "cc = opencc.OpenCC('t2s')\n",
    "poetry = set()\n",
    "\n",
    "\n",
    "def is_chinese(c):\n",
    "    return '\\u4e00' <= c <= '\\u9fa5' or '\\u3400' <= c <= '\\u4db5'\n",
    "\n",
    "\n",
    "def chinese_split(s):\n",
    "    ret = []\n",
    "    tmp = ''\n",
    "    for c in s:\n",
    "        if is_chinese(c):\n",
    "            tmp += c\n",
    "        elif tmp != '':\n",
    "            ret.append(deepcopy(tmp))\n",
    "            tmp = ''\n",
    "    if tmp != '':\n",
    "        ret.append(deepcopy(tmp))\n",
    "        tmp = ''\n",
    "    return ret\n",
    "\n",
    "\n",
    "def check(s):\n",
    "    poetry.add(cc.convert(s))\n",
    "\n",
    "\n",
    "def dfs(dir):\n",
    "    if os.path.isfile(dir):\n",
    "        if dir.endswith('.csv') or dir.endswith('.json'):\n",
    "            with open(dir, \"r\", encoding='utf-8') as f:\n",
    "                s = f.read()\n",
    "            sp = chinese_split(s)\n",
    "            for v in sp:\n",
    "                check(v)\n",
    "    elif os.path.isdir(dir):\n",
    "        for s in os.listdir(dir):\n",
    "            if s.startswith('.'):\n",
    "                continue\n",
    "            newDir = os.path.join(dir, s)\n",
    "            dfs(newDir)\n",
    "\n",
    "\n",
    "dfs('poetrys')\n",
    "print(len(poetry))"
   ]
  },
  {
   "cell_type": "code",
   "execution_count": 12,
   "metadata": {},
   "outputs": [],
   "source": [
    "poetry_str = list(poetry)\n",
    "poetry_str.sort()\n",
    "poetry_str = [s+'\\n' for s in poetry_str if s]\n",
    "with open('poetrys.txt', \"w\", encoding='utf-8') as f:\n",
    "    s = f.writelines(poetry_str)\n"
   ]
  },
  {
   "cell_type": "code",
   "execution_count": null,
   "metadata": {},
   "outputs": [],
   "source": []
  }
 ],
 "metadata": {
  "kernelspec": {
   "display_name": "Python 3",
   "language": "python",
   "name": "python3"
  },
  "language_info": {
   "codemirror_mode": {
    "name": "ipython",
    "version": 3
   },
   "file_extension": ".py",
   "mimetype": "text/x-python",
   "name": "python",
   "nbconvert_exporter": "python",
   "pygments_lexer": "ipython3",
   "version": "3.8.10"
  },
  "orig_nbformat": 4
 },
 "nbformat": 4,
 "nbformat_minor": 2
}
